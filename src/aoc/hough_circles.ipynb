{
 "cells": [
  {
   "cell_type": "code",
   "execution_count": 1,
   "metadata": {},
   "outputs": [],
   "source": [
    "import skimage.io\n",
    "from skimage.color import rgb2gray\n",
    "from skimage import data\n",
    "\n",
    "import cv2 as cv\n",
    "import numpy as np\n",
    "\n",
    "image=cv.imread(\"001.jpg\", cv.IMREAD_GRAYSCALE)\n",
    "cimg = cv.cvtColor(image,cv.COLOR_GRAY2BGR)\n",
    "\n",
    "image = cv.medianBlur(image,5)\n",
    "# image = cv.GaussianBlur(image,(5,5),0)\n",
    "\n",
    "\n",
    "circles = cv.HoughCircles(image,cv.HOUGH_GRADIENT,1,20,\n",
    "                            param1=150,param2=100,minRadius=0,maxRadius=0)\n",
    "\n",
    "\n",
    "# circles = np.uint16(np.around(circles))\n",
    "# for i in circles[0,:]:\n",
    "#     # draw the outer circle\n",
    "#     cv.circle(cimg,(i[0],i[1]),i[2],(0,255,0),2)\n",
    "#     # draw the center of the circle\n",
    "#     cv.circle(cimg,(i[0],i[1]),2,(0,0,255),3)\n",
    "\n",
    "# cv.namedWindow(\"output\", cv.WINDOW_NORMAL) \n",
    "# cv.imshow('output',cimg)\n",
    "# cv.waitKey(0)\n",
    "# cv.destroyAllWindows()\n",
    " \n",
    "if circles is not None:\n",
    "    circles = np.uint16(np.around(circles))\n",
    "\n",
    "    largest_circle = max(circles[0, :], key=lambda x: x[2])\n",
    "    x, y, r = largest_circle\n",
    "\n",
    "    cv.circle(cimg, (x, y), r, (0, 255, 0), 2)  # Okrąg\n",
    "    cv.circle(cimg, (x, y), 2, (0, 0, 255), 3)  # Środek\n",
    "\n",
    "    x1, y1 = x - r, y - r  # Lewy górny róg\n",
    "    x2, y2 = x + r, y + r  # Prawy dolny róg\n",
    "    cropped_circle = image[y1:y2, x1:x2]\n",
    "\n",
    "cv.namedWindow(\"output\", cv.WINDOW_NORMAL)  \n",
    "cv.imshow(\"output\",cropped_circle)\n",
    "cv.waitKey(0)\n",
    "cv.destroyAllWindows()"
   ]
  }
 ],
 "metadata": {
  "kernelspec": {
   "display_name": "aoc",
   "language": "python",
   "name": "python3"
  },
  "language_info": {
   "codemirror_mode": {
    "name": "ipython",
    "version": 3
   },
   "file_extension": ".py",
   "mimetype": "text/x-python",
   "name": "python",
   "nbconvert_exporter": "python",
   "pygments_lexer": "ipython3",
   "version": "3.10.15"
  }
 },
 "nbformat": 4,
 "nbformat_minor": 2
}
