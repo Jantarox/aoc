{
 "cells": [
  {
   "cell_type": "code",
   "execution_count": 12,
   "metadata": {},
   "outputs": [],
   "source": [
    "import os\n",
    "\n",
    "import matplotlib.pyplot as plt\n",
    "import numpy as np\n",
    "import pandas as pd\n",
    "import cv2 as cv\n",
    "import skimage\n",
    "\n",
    "from aoc.utils import extract_coin, convolve_mask, gaussuian_mask"
   ]
  },
  {
   "cell_type": "code",
   "execution_count": 13,
   "metadata": {},
   "outputs": [
    {
     "data": {
      "text/html": [
       "<div>\n",
       "<style scoped>\n",
       "    .dataframe tbody tr th:only-of-type {\n",
       "        vertical-align: middle;\n",
       "    }\n",
       "\n",
       "    .dataframe tbody tr th {\n",
       "        vertical-align: top;\n",
       "    }\n",
       "\n",
       "    .dataframe thead th {\n",
       "        text-align: right;\n",
       "    }\n",
       "</style>\n",
       "<table border=\"1\" class=\"dataframe\">\n",
       "  <thead>\n",
       "    <tr style=\"text-align: right;\">\n",
       "      <th></th>\n",
       "      <th>img_dir</th>\n",
       "      <th>label</th>\n",
       "      <th>x1</th>\n",
       "      <th>y1</th>\n",
       "      <th>x2</th>\n",
       "      <th>y2</th>\n",
       "    </tr>\n",
       "  </thead>\n",
       "  <tbody>\n",
       "    <tr>\n",
       "      <th>0</th>\n",
       "      <td>1/001_1.jpg</td>\n",
       "      <td>1</td>\n",
       "      <td>3085</td>\n",
       "      <td>769</td>\n",
       "      <td>3627</td>\n",
       "      <td>1311</td>\n",
       "    </tr>\n",
       "    <tr>\n",
       "      <th>1</th>\n",
       "      <td>1/001_10.jpg</td>\n",
       "      <td>1</td>\n",
       "      <td>10164</td>\n",
       "      <td>3168</td>\n",
       "      <td>12264</td>\n",
       "      <td>5268</td>\n",
       "    </tr>\n",
       "    <tr>\n",
       "      <th>2</th>\n",
       "      <td>1/001_11.jpg</td>\n",
       "      <td>1</td>\n",
       "      <td>10154</td>\n",
       "      <td>3280</td>\n",
       "      <td>12078</td>\n",
       "      <td>5204</td>\n",
       "    </tr>\n",
       "    <tr>\n",
       "      <th>3</th>\n",
       "      <td>1/001_12.jpg</td>\n",
       "      <td>1</td>\n",
       "      <td>5002</td>\n",
       "      <td>1602</td>\n",
       "      <td>6026</td>\n",
       "      <td>2626</td>\n",
       "    </tr>\n",
       "    <tr>\n",
       "      <th>4</th>\n",
       "      <td>1/001_13.jpg</td>\n",
       "      <td>1</td>\n",
       "      <td>12675</td>\n",
       "      <td>3253</td>\n",
       "      <td>14753</td>\n",
       "      <td>5331</td>\n",
       "    </tr>\n",
       "    <tr>\n",
       "      <th>...</th>\n",
       "      <td>...</td>\n",
       "      <td>...</td>\n",
       "      <td>...</td>\n",
       "      <td>...</td>\n",
       "      <td>...</td>\n",
       "      <td>...</td>\n",
       "    </tr>\n",
       "    <tr>\n",
       "      <th>660</th>\n",
       "      <td>500/500_58.jpg</td>\n",
       "      <td>500</td>\n",
       "      <td>574</td>\n",
       "      <td>730</td>\n",
       "      <td>1170</td>\n",
       "      <td>1326</td>\n",
       "    </tr>\n",
       "    <tr>\n",
       "      <th>661</th>\n",
       "      <td>500/500_6.jpg</td>\n",
       "      <td>500</td>\n",
       "      <td>243</td>\n",
       "      <td>857</td>\n",
       "      <td>865</td>\n",
       "      <td>1479</td>\n",
       "    </tr>\n",
       "    <tr>\n",
       "      <th>662</th>\n",
       "      <td>500/500_7.jpg</td>\n",
       "      <td>500</td>\n",
       "      <td>4807</td>\n",
       "      <td>748</td>\n",
       "      <td>7414</td>\n",
       "      <td>3355</td>\n",
       "    </tr>\n",
       "    <tr>\n",
       "      <th>663</th>\n",
       "      <td>500/500_8.jpg</td>\n",
       "      <td>500</td>\n",
       "      <td>2445</td>\n",
       "      <td>381</td>\n",
       "      <td>3687</td>\n",
       "      <td>1623</td>\n",
       "    </tr>\n",
       "    <tr>\n",
       "      <th>664</th>\n",
       "      <td>500/500_9.jpg</td>\n",
       "      <td>500</td>\n",
       "      <td>1213</td>\n",
       "      <td>175</td>\n",
       "      <td>1815</td>\n",
       "      <td>777</td>\n",
       "    </tr>\n",
       "  </tbody>\n",
       "</table>\n",
       "<p>665 rows × 6 columns</p>\n",
       "</div>"
      ],
      "text/plain": [
       "            img_dir  label     x1    y1     x2    y2\n",
       "0       1/001_1.jpg      1   3085   769   3627  1311\n",
       "1      1/001_10.jpg      1  10164  3168  12264  5268\n",
       "2      1/001_11.jpg      1  10154  3280  12078  5204\n",
       "3      1/001_12.jpg      1   5002  1602   6026  2626\n",
       "4      1/001_13.jpg      1  12675  3253  14753  5331\n",
       "..              ...    ...    ...   ...    ...   ...\n",
       "660  500/500_58.jpg    500    574   730   1170  1326\n",
       "661   500/500_6.jpg    500    243   857    865  1479\n",
       "662   500/500_7.jpg    500   4807   748   7414  3355\n",
       "663   500/500_8.jpg    500   2445   381   3687  1623\n",
       "664   500/500_9.jpg    500   1213   175   1815   777\n",
       "\n",
       "[665 rows x 6 columns]"
      ]
     },
     "execution_count": 13,
     "metadata": {},
     "output_type": "execute_result"
    }
   ],
   "source": [
    "data_dir = \"data\"\n",
    "\n",
    "df = pd.read_csv(os.path.join(data_dir, \"items.csv\"), sep=\";\")\n",
    "size_before = df.shape[0]\n",
    "df.dropna(inplace=True, ignore_index=True)\n",
    "assert df.shape[0] == size_before\n",
    "df = df.astype({\"x1\": int, \"y1\": int, \"x2\": int, \"y2\": int})\n",
    "df"
   ]
  },
  {
   "cell_type": "code",
   "execution_count": 21,
   "metadata": {},
   "outputs": [
    {
     "name": "stdout",
     "output_type": "stream",
     "text": [
      "180\n"
     ]
    },
    {
     "name": "stderr",
     "output_type": "stream",
     "text": [
      "Corrupt JPEG data: 1 extraneous bytes before marker 0xd0\n"
     ]
    },
    {
     "name": "stdout",
     "output_type": "stream",
     "text": [
      "270\n"
     ]
    },
    {
     "name": "stderr",
     "output_type": "stream",
     "text": [
      "Corrupt JPEG data: 1 extraneous bytes before marker 0xd3\n"
     ]
    },
    {
     "name": "stdout",
     "output_type": "stream",
     "text": [
      "0\n"
     ]
    },
    {
     "name": "stderr",
     "output_type": "stream",
     "text": [
      "Corrupt JPEG data: 4 extraneous bytes before marker 0xd7\n"
     ]
    },
    {
     "name": "stdout",
     "output_type": "stream",
     "text": [
      "180\n"
     ]
    },
    {
     "name": "stderr",
     "output_type": "stream",
     "text": [
      "Corrupt JPEG data: 1 extraneous bytes before marker 0xd1\n"
     ]
    },
    {
     "name": "stdout",
     "output_type": "stream",
     "text": [
      "90\n"
     ]
    },
    {
     "name": "stderr",
     "output_type": "stream",
     "text": [
      "Corrupt JPEG data: 2 extraneous bytes before marker 0xd2\n"
     ]
    },
    {
     "name": "stdout",
     "output_type": "stream",
     "text": [
      "180\n",
      "0\n"
     ]
    },
    {
     "name": "stderr",
     "output_type": "stream",
     "text": [
      "Corrupt JPEG data: 12 extraneous bytes before marker 0xd4\n"
     ]
    },
    {
     "name": "stdout",
     "output_type": "stream",
     "text": [
      "0\n"
     ]
    },
    {
     "name": "stderr",
     "output_type": "stream",
     "text": [
      "Corrupt JPEG data: 1 extraneous bytes before marker 0xd5\n"
     ]
    },
    {
     "name": "stdout",
     "output_type": "stream",
     "text": [
      "0\n",
      "180\n"
     ]
    },
    {
     "name": "stderr",
     "output_type": "stream",
     "text": [
      "Corrupt JPEG data: 2 extraneous bytes before marker 0xd7\n"
     ]
    },
    {
     "name": "stdout",
     "output_type": "stream",
     "text": [
      "0\n"
     ]
    },
    {
     "name": "stderr",
     "output_type": "stream",
     "text": [
      "Corrupt JPEG data: 1 extraneous bytes before marker 0xd6\n"
     ]
    },
    {
     "name": "stdout",
     "output_type": "stream",
     "text": [
      "270\n"
     ]
    },
    {
     "name": "stderr",
     "output_type": "stream",
     "text": [
      "Corrupt JPEG data: 1 extraneous bytes before marker 0xd4\n"
     ]
    },
    {
     "name": "stdout",
     "output_type": "stream",
     "text": [
      "90\n"
     ]
    },
    {
     "name": "stderr",
     "output_type": "stream",
     "text": [
      "Corrupt JPEG data: 4 extraneous bytes before marker 0xd7\n"
     ]
    },
    {
     "name": "stdout",
     "output_type": "stream",
     "text": [
      "270\n"
     ]
    },
    {
     "name": "stderr",
     "output_type": "stream",
     "text": [
      "Corrupt JPEG data: 1 extraneous bytes before marker 0xd4\n"
     ]
    },
    {
     "name": "stdout",
     "output_type": "stream",
     "text": [
      "270\n"
     ]
    },
    {
     "name": "stderr",
     "output_type": "stream",
     "text": [
      "Corrupt JPEG data: 1 extraneous bytes before marker 0xd1\n"
     ]
    },
    {
     "name": "stdout",
     "output_type": "stream",
     "text": [
      "90\n"
     ]
    },
    {
     "name": "stderr",
     "output_type": "stream",
     "text": [
      "Corrupt JPEG data: 5 extraneous bytes before marker 0xd7\n"
     ]
    },
    {
     "name": "stdout",
     "output_type": "stream",
     "text": [
      "270\n",
      "270\n"
     ]
    },
    {
     "name": "stderr",
     "output_type": "stream",
     "text": [
      "Corrupt JPEG data: 3 extraneous bytes before marker 0xd0\n"
     ]
    },
    {
     "name": "stdout",
     "output_type": "stream",
     "text": [
      "90\n"
     ]
    },
    {
     "name": "stderr",
     "output_type": "stream",
     "text": [
      "Corrupt JPEG data: 2 extraneous bytes before marker 0xd7\n"
     ]
    },
    {
     "name": "stdout",
     "output_type": "stream",
     "text": [
      "180\n"
     ]
    },
    {
     "name": "stderr",
     "output_type": "stream",
     "text": [
      "Corrupt JPEG data: 1 extraneous bytes before marker 0xd3\n"
     ]
    },
    {
     "name": "stdout",
     "output_type": "stream",
     "text": [
      "270\n",
      "90\n",
      "0\n"
     ]
    },
    {
     "name": "stderr",
     "output_type": "stream",
     "text": [
      "Corrupt JPEG data: 3 extraneous bytes before marker 0xd6\n"
     ]
    },
    {
     "name": "stdout",
     "output_type": "stream",
     "text": [
      "0\n",
      "270\n"
     ]
    },
    {
     "name": "stderr",
     "output_type": "stream",
     "text": [
      "Corrupt JPEG data: 1 extraneous bytes before marker 0xd6\n"
     ]
    },
    {
     "name": "stdout",
     "output_type": "stream",
     "text": [
      "0\n"
     ]
    },
    {
     "name": "stderr",
     "output_type": "stream",
     "text": [
      "Corrupt JPEG data: 1 extraneous bytes before marker 0xd4\n"
     ]
    },
    {
     "name": "stdout",
     "output_type": "stream",
     "text": [
      "0\n"
     ]
    },
    {
     "name": "stderr",
     "output_type": "stream",
     "text": [
      "Corrupt JPEG data: 1 extraneous bytes before marker 0xd2\n"
     ]
    },
    {
     "name": "stdout",
     "output_type": "stream",
     "text": [
      "90\n"
     ]
    },
    {
     "name": "stderr",
     "output_type": "stream",
     "text": [
      "Corrupt JPEG data: 1 extraneous bytes before marker 0xd7\n"
     ]
    },
    {
     "name": "stdout",
     "output_type": "stream",
     "text": [
      "90\n"
     ]
    },
    {
     "name": "stderr",
     "output_type": "stream",
     "text": [
      "Corrupt JPEG data: 1 extraneous bytes before marker 0xd7\n"
     ]
    },
    {
     "name": "stdout",
     "output_type": "stream",
     "text": [
      "270\n",
      "90\n"
     ]
    }
   ],
   "source": [
    "image_path = os.path.join(data_dir, \"1/001_1.jpg\")\n",
    "resize_shape = (200, 200)\n",
    "mask_sigma = 15\n",
    "\n",
    "mask = gaussuian_mask(resize_shape, mask_sigma)\n",
    "\n",
    "\n",
    "for index, row in df.iterrows():\n",
    "    if index > 30:\n",
    "        break\n",
    "    bounding_box = (row[\"x1\"], row[\"y1\"], row[\"x2\"], row[\"y2\"])\n",
    "    image_path = os.path.join(data_dir, row[\"img_dir\"])\n",
    "\n",
    "    image = cv.imread(image_path)\n",
    "\n",
    "    # convert BGR to RGB\n",
    "    image = image[:, :, ::-1]\n",
    "\n",
    "    # extract the coin\n",
    "    image = extract_coin(image, bounding_box, resize_shape)\n",
    "    image = convolve_mask(image, mask)\n",
    "    # compute gradients along the x and y axis, respectively\n",
    "    gX = cv.Sobel(image, cv.CV_64F, 1, 0)\n",
    "    gY = cv.Sobel(image, cv.CV_64F, 0, 1)\n",
    "    # compute the gradient magnitude and orientation\n",
    "    magnitude = np.sqrt((gX**2) + (gY**2))\n",
    "    orientation = np.arctan2(gY, gX) * (180 / np.pi) % 360\n",
    "\n",
    "    orientation_histogram = np.histogram(orientation, bins=36)\n",
    "    degrees = np.argmax(orientation_histogram[0]) * 10\n",
    "\n",
    "    print(degrees)\n",
    "    continue\n",
    "\n",
    "    image = skimage.transform.rotate(image, degrees)\n",
    "    # initialize a figure to display the input grayscale image along with\n",
    "    # the gradient magnitude and orientation representations, respectively\n",
    "    (fig, axs) = plt.subplots(nrows=1, ncols=3, figsize=(8, 4))\n",
    "    # plot each of the images\n",
    "    axs[0].imshow(image, cmap=\"gray\")\n",
    "    axs[1].imshow(magnitude, cmap=\"jet\")\n",
    "    axs[2].imshow(orientation, cmap=\"jet\")\n",
    "    # set the titles of each axes\n",
    "    axs[0].set_title(\"Grayscale\")\n",
    "    axs[1].set_title(\"Gradient Magnitude\")\n",
    "    axs[2].set_title(\"Gradient Orientation [0, 180]\")\n",
    "    # loop over each of the axes and turn off the x and y ticks\n",
    "    for i in range(0, 3):\n",
    "        axs[i].get_xaxis().set_ticks([])\n",
    "        axs[i].get_yaxis().set_ticks([])\n",
    "    # show the plots\n",
    "    plt.tight_layout()\n",
    "    plt.show()\n",
    "    break"
   ]
  },
  {
   "cell_type": "code",
   "execution_count": 15,
   "metadata": {},
   "outputs": [
    {
     "data": {
      "text/plain": [
       "np.float64(179.91943805662362)"
      ]
     },
     "execution_count": 15,
     "metadata": {},
     "output_type": "execute_result"
    }
   ],
   "source": [
    "orientation.mean()"
   ]
  }
 ],
 "metadata": {
  "kernelspec": {
   "display_name": "aoc",
   "language": "python",
   "name": "python3"
  },
  "language_info": {
   "codemirror_mode": {
    "name": "ipython",
    "version": 3
   },
   "file_extension": ".py",
   "mimetype": "text/x-python",
   "name": "python",
   "nbconvert_exporter": "python",
   "pygments_lexer": "ipython3",
   "version": "3.10.15"
  }
 },
 "nbformat": 4,
 "nbformat_minor": 2
}
